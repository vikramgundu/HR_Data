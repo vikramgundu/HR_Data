{
 "cells": [
  {
   "cell_type": "code",
   "execution_count": 134,
   "metadata": {
    "_cell_guid": "b1076dfc-b9ad-4769-8c92-a6c4dae69d19",
    "_uuid": "8f2839f25d086af736a60e9eeb907d3b93b6e0e5"
   },
   "outputs": [],
   "source": [
    "import numpy as np\n",
    "import pandas as pd\n",
    "import matplotlib.pyplot as plt \n",
    "import seaborn as sns \n",
    "%matplotlib inline"
   ]
  },
  {
   "cell_type": "code",
   "execution_count": 135,
   "metadata": {},
   "outputs": [
    {
     "data": {
      "text/html": [
       "<div>\n",
       "<style scoped>\n",
       "    .dataframe tbody tr th:only-of-type {\n",
       "        vertical-align: middle;\n",
       "    }\n",
       "\n",
       "    .dataframe tbody tr th {\n",
       "        vertical-align: top;\n",
       "    }\n",
       "\n",
       "    .dataframe thead th {\n",
       "        text-align: right;\n",
       "    }\n",
       "</style>\n",
       "<table border=\"1\" class=\"dataframe\">\n",
       "  <thead>\n",
       "    <tr style=\"text-align: right;\">\n",
       "      <th></th>\n",
       "      <th>SLNO</th>\n",
       "      <th>Candidate.Ref</th>\n",
       "      <th>DOJ.Extended</th>\n",
       "      <th>Duration.to.accept.offer</th>\n",
       "      <th>Notice.period</th>\n",
       "      <th>Offered.band</th>\n",
       "      <th>Pecent.hike.expected.in.CTC</th>\n",
       "      <th>Percent.hike.offered.in.CTC</th>\n",
       "      <th>Percent.difference.CTC</th>\n",
       "      <th>Joining.Bonus</th>\n",
       "      <th>Candidate.relocate.actual</th>\n",
       "      <th>Gender</th>\n",
       "      <th>Candidate.Source</th>\n",
       "      <th>Rex.in.Yrs</th>\n",
       "      <th>LOB</th>\n",
       "      <th>Location</th>\n",
       "      <th>Age</th>\n",
       "      <th>Status</th>\n",
       "    </tr>\n",
       "  </thead>\n",
       "  <tbody>\n",
       "    <tr>\n",
       "      <th>0</th>\n",
       "      <td>1</td>\n",
       "      <td>2110407</td>\n",
       "      <td>Yes</td>\n",
       "      <td>14</td>\n",
       "      <td>30</td>\n",
       "      <td>E2</td>\n",
       "      <td>-20.79</td>\n",
       "      <td>13.16</td>\n",
       "      <td>42.86</td>\n",
       "      <td>No</td>\n",
       "      <td>No</td>\n",
       "      <td>Female</td>\n",
       "      <td>Agency</td>\n",
       "      <td>7</td>\n",
       "      <td>ERS</td>\n",
       "      <td>Noida</td>\n",
       "      <td>34</td>\n",
       "      <td>Joined</td>\n",
       "    </tr>\n",
       "    <tr>\n",
       "      <th>1</th>\n",
       "      <td>2</td>\n",
       "      <td>2112635</td>\n",
       "      <td>No</td>\n",
       "      <td>18</td>\n",
       "      <td>30</td>\n",
       "      <td>E2</td>\n",
       "      <td>50.00</td>\n",
       "      <td>320.00</td>\n",
       "      <td>180.00</td>\n",
       "      <td>No</td>\n",
       "      <td>No</td>\n",
       "      <td>Male</td>\n",
       "      <td>Employee Referral</td>\n",
       "      <td>8</td>\n",
       "      <td>INFRA</td>\n",
       "      <td>Chennai</td>\n",
       "      <td>34</td>\n",
       "      <td>Joined</td>\n",
       "    </tr>\n",
       "    <tr>\n",
       "      <th>2</th>\n",
       "      <td>3</td>\n",
       "      <td>2112838</td>\n",
       "      <td>No</td>\n",
       "      <td>3</td>\n",
       "      <td>45</td>\n",
       "      <td>E2</td>\n",
       "      <td>42.84</td>\n",
       "      <td>42.84</td>\n",
       "      <td>0.00</td>\n",
       "      <td>No</td>\n",
       "      <td>No</td>\n",
       "      <td>Male</td>\n",
       "      <td>Agency</td>\n",
       "      <td>4</td>\n",
       "      <td>INFRA</td>\n",
       "      <td>Noida</td>\n",
       "      <td>27</td>\n",
       "      <td>Joined</td>\n",
       "    </tr>\n",
       "    <tr>\n",
       "      <th>3</th>\n",
       "      <td>4</td>\n",
       "      <td>2115021</td>\n",
       "      <td>No</td>\n",
       "      <td>26</td>\n",
       "      <td>30</td>\n",
       "      <td>E2</td>\n",
       "      <td>42.84</td>\n",
       "      <td>42.84</td>\n",
       "      <td>0.00</td>\n",
       "      <td>No</td>\n",
       "      <td>No</td>\n",
       "      <td>Male</td>\n",
       "      <td>Employee Referral</td>\n",
       "      <td>4</td>\n",
       "      <td>INFRA</td>\n",
       "      <td>Noida</td>\n",
       "      <td>34</td>\n",
       "      <td>Joined</td>\n",
       "    </tr>\n",
       "    <tr>\n",
       "      <th>4</th>\n",
       "      <td>5</td>\n",
       "      <td>2115125</td>\n",
       "      <td>Yes</td>\n",
       "      <td>1</td>\n",
       "      <td>120</td>\n",
       "      <td>E2</td>\n",
       "      <td>42.59</td>\n",
       "      <td>42.59</td>\n",
       "      <td>0.00</td>\n",
       "      <td>No</td>\n",
       "      <td>Yes</td>\n",
       "      <td>Male</td>\n",
       "      <td>Employee Referral</td>\n",
       "      <td>6</td>\n",
       "      <td>INFRA</td>\n",
       "      <td>Noida</td>\n",
       "      <td>34</td>\n",
       "      <td>Joined</td>\n",
       "    </tr>\n",
       "    <tr>\n",
       "      <th>...</th>\n",
       "      <td>...</td>\n",
       "      <td>...</td>\n",
       "      <td>...</td>\n",
       "      <td>...</td>\n",
       "      <td>...</td>\n",
       "      <td>...</td>\n",
       "      <td>...</td>\n",
       "      <td>...</td>\n",
       "      <td>...</td>\n",
       "      <td>...</td>\n",
       "      <td>...</td>\n",
       "      <td>...</td>\n",
       "      <td>...</td>\n",
       "      <td>...</td>\n",
       "      <td>...</td>\n",
       "      <td>...</td>\n",
       "      <td>...</td>\n",
       "      <td>...</td>\n",
       "    </tr>\n",
       "    <tr>\n",
       "      <th>8993</th>\n",
       "      <td>12332</td>\n",
       "      <td>3835433</td>\n",
       "      <td>No</td>\n",
       "      <td>0</td>\n",
       "      <td>30</td>\n",
       "      <td>E1</td>\n",
       "      <td>76.92</td>\n",
       "      <td>53.85</td>\n",
       "      <td>-13.04</td>\n",
       "      <td>No</td>\n",
       "      <td>No</td>\n",
       "      <td>Male</td>\n",
       "      <td>Direct</td>\n",
       "      <td>4</td>\n",
       "      <td>INFRA</td>\n",
       "      <td>Noida</td>\n",
       "      <td>34</td>\n",
       "      <td>Joined</td>\n",
       "    </tr>\n",
       "    <tr>\n",
       "      <th>8994</th>\n",
       "      <td>12333</td>\n",
       "      <td>3836076</td>\n",
       "      <td>No</td>\n",
       "      <td>2</td>\n",
       "      <td>0</td>\n",
       "      <td>E1</td>\n",
       "      <td>45.25</td>\n",
       "      <td>14.09</td>\n",
       "      <td>-21.45</td>\n",
       "      <td>No</td>\n",
       "      <td>No</td>\n",
       "      <td>Female</td>\n",
       "      <td>Employee Referral</td>\n",
       "      <td>1</td>\n",
       "      <td>INFRA</td>\n",
       "      <td>Chennai</td>\n",
       "      <td>34</td>\n",
       "      <td>Joined</td>\n",
       "    </tr>\n",
       "    <tr>\n",
       "      <th>8995</th>\n",
       "      <td>12319</td>\n",
       "      <td>3822427</td>\n",
       "      <td>No</td>\n",
       "      <td>4</td>\n",
       "      <td>0</td>\n",
       "      <td>E1</td>\n",
       "      <td>191.67</td>\n",
       "      <td>191.67</td>\n",
       "      <td>0.00</td>\n",
       "      <td>No</td>\n",
       "      <td>No</td>\n",
       "      <td>Male</td>\n",
       "      <td>Employee Referral</td>\n",
       "      <td>1</td>\n",
       "      <td>ERS</td>\n",
       "      <td>Chennai</td>\n",
       "      <td>34</td>\n",
       "      <td>Joined</td>\n",
       "    </tr>\n",
       "    <tr>\n",
       "      <th>8996</th>\n",
       "      <td>11882</td>\n",
       "      <td>3664089</td>\n",
       "      <td>No</td>\n",
       "      <td>5</td>\n",
       "      <td>0</td>\n",
       "      <td>E2</td>\n",
       "      <td>20.00</td>\n",
       "      <td>10.00</td>\n",
       "      <td>-8.33</td>\n",
       "      <td>No</td>\n",
       "      <td>No</td>\n",
       "      <td>Male</td>\n",
       "      <td>Direct</td>\n",
       "      <td>8</td>\n",
       "      <td>ETS</td>\n",
       "      <td>Noida</td>\n",
       "      <td>34</td>\n",
       "      <td>Joined</td>\n",
       "    </tr>\n",
       "    <tr>\n",
       "      <th>8997</th>\n",
       "      <td>5080</td>\n",
       "      <td>2556130</td>\n",
       "      <td>Yes</td>\n",
       "      <td>4</td>\n",
       "      <td>30</td>\n",
       "      <td>E1</td>\n",
       "      <td>30.95</td>\n",
       "      <td>23.81</td>\n",
       "      <td>-5.45</td>\n",
       "      <td>No</td>\n",
       "      <td>No</td>\n",
       "      <td>Male</td>\n",
       "      <td>Direct</td>\n",
       "      <td>4</td>\n",
       "      <td>ETS</td>\n",
       "      <td>Bangalore</td>\n",
       "      <td>26</td>\n",
       "      <td>Joined</td>\n",
       "    </tr>\n",
       "  </tbody>\n",
       "</table>\n",
       "<p>8998 rows × 18 columns</p>\n",
       "</div>"
      ],
      "text/plain": [
       "       SLNO  Candidate.Ref DOJ.Extended  Duration.to.accept.offer  \\\n",
       "0         1        2110407          Yes                        14   \n",
       "1         2        2112635           No                        18   \n",
       "2         3        2112838           No                         3   \n",
       "3         4        2115021           No                        26   \n",
       "4         5        2115125          Yes                         1   \n",
       "...     ...            ...          ...                       ...   \n",
       "8993  12332        3835433           No                         0   \n",
       "8994  12333        3836076           No                         2   \n",
       "8995  12319        3822427           No                         4   \n",
       "8996  11882        3664089           No                         5   \n",
       "8997   5080        2556130          Yes                         4   \n",
       "\n",
       "      Notice.period Offered.band  Pecent.hike.expected.in.CTC  \\\n",
       "0                30           E2                       -20.79   \n",
       "1                30           E2                        50.00   \n",
       "2                45           E2                        42.84   \n",
       "3                30           E2                        42.84   \n",
       "4               120           E2                        42.59   \n",
       "...             ...          ...                          ...   \n",
       "8993             30           E1                        76.92   \n",
       "8994              0           E1                        45.25   \n",
       "8995              0           E1                       191.67   \n",
       "8996              0           E2                        20.00   \n",
       "8997             30           E1                        30.95   \n",
       "\n",
       "      Percent.hike.offered.in.CTC  Percent.difference.CTC Joining.Bonus  \\\n",
       "0                           13.16                   42.86            No   \n",
       "1                          320.00                  180.00            No   \n",
       "2                           42.84                    0.00            No   \n",
       "3                           42.84                    0.00            No   \n",
       "4                           42.59                    0.00            No   \n",
       "...                           ...                     ...           ...   \n",
       "8993                        53.85                  -13.04            No   \n",
       "8994                        14.09                  -21.45            No   \n",
       "8995                       191.67                    0.00            No   \n",
       "8996                        10.00                   -8.33            No   \n",
       "8997                        23.81                   -5.45            No   \n",
       "\n",
       "     Candidate.relocate.actual  Gender   Candidate.Source  Rex.in.Yrs    LOB  \\\n",
       "0                           No  Female             Agency           7    ERS   \n",
       "1                           No    Male  Employee Referral           8  INFRA   \n",
       "2                           No    Male             Agency           4  INFRA   \n",
       "3                           No    Male  Employee Referral           4  INFRA   \n",
       "4                          Yes    Male  Employee Referral           6  INFRA   \n",
       "...                        ...     ...                ...         ...    ...   \n",
       "8993                        No    Male             Direct           4  INFRA   \n",
       "8994                        No  Female  Employee Referral           1  INFRA   \n",
       "8995                        No    Male  Employee Referral           1    ERS   \n",
       "8996                        No    Male             Direct           8    ETS   \n",
       "8997                        No    Male             Direct           4    ETS   \n",
       "\n",
       "       Location  Age  Status  \n",
       "0         Noida   34  Joined  \n",
       "1       Chennai   34  Joined  \n",
       "2         Noida   27  Joined  \n",
       "3         Noida   34  Joined  \n",
       "4         Noida   34  Joined  \n",
       "...         ...  ...     ...  \n",
       "8993      Noida   34  Joined  \n",
       "8994    Chennai   34  Joined  \n",
       "8995    Chennai   34  Joined  \n",
       "8996      Noida   34  Joined  \n",
       "8997  Bangalore   26  Joined  \n",
       "\n",
       "[8998 rows x 18 columns]"
      ]
     },
     "execution_count": 135,
     "metadata": {},
     "output_type": "execute_result"
    }
   ],
   "source": [
    "df= pd.read_csv(\"HR_Data.csv\")\n",
    "df"
   ]
  },
  {
   "cell_type": "markdown",
   "metadata": {},
   "source": [
    "Exploring the data"
   ]
  },
  {
   "cell_type": "code",
   "execution_count": 136,
   "metadata": {},
   "outputs": [
    {
     "data": {
      "text/html": [
       "<div>\n",
       "<style scoped>\n",
       "    .dataframe tbody tr th:only-of-type {\n",
       "        vertical-align: middle;\n",
       "    }\n",
       "\n",
       "    .dataframe tbody tr th {\n",
       "        vertical-align: top;\n",
       "    }\n",
       "\n",
       "    .dataframe thead th {\n",
       "        text-align: right;\n",
       "    }\n",
       "</style>\n",
       "<table border=\"1\" class=\"dataframe\">\n",
       "  <thead>\n",
       "    <tr style=\"text-align: right;\">\n",
       "      <th></th>\n",
       "      <th>SLNO</th>\n",
       "      <th>Candidate.Ref</th>\n",
       "      <th>DOJ.Extended</th>\n",
       "      <th>Duration.to.accept.offer</th>\n",
       "      <th>Notice.period</th>\n",
       "      <th>Offered.band</th>\n",
       "      <th>Pecent.hike.expected.in.CTC</th>\n",
       "      <th>Percent.hike.offered.in.CTC</th>\n",
       "      <th>Percent.difference.CTC</th>\n",
       "      <th>Joining.Bonus</th>\n",
       "      <th>Candidate.relocate.actual</th>\n",
       "      <th>Gender</th>\n",
       "      <th>Candidate.Source</th>\n",
       "      <th>Rex.in.Yrs</th>\n",
       "      <th>LOB</th>\n",
       "      <th>Location</th>\n",
       "      <th>Age</th>\n",
       "      <th>Status</th>\n",
       "    </tr>\n",
       "  </thead>\n",
       "  <tbody>\n",
       "    <tr>\n",
       "      <th>0</th>\n",
       "      <td>1</td>\n",
       "      <td>2110407</td>\n",
       "      <td>Yes</td>\n",
       "      <td>14</td>\n",
       "      <td>30</td>\n",
       "      <td>E2</td>\n",
       "      <td>-20.79</td>\n",
       "      <td>13.16</td>\n",
       "      <td>42.86</td>\n",
       "      <td>No</td>\n",
       "      <td>No</td>\n",
       "      <td>Female</td>\n",
       "      <td>Agency</td>\n",
       "      <td>7</td>\n",
       "      <td>ERS</td>\n",
       "      <td>Noida</td>\n",
       "      <td>34</td>\n",
       "      <td>Joined</td>\n",
       "    </tr>\n",
       "    <tr>\n",
       "      <th>1</th>\n",
       "      <td>2</td>\n",
       "      <td>2112635</td>\n",
       "      <td>No</td>\n",
       "      <td>18</td>\n",
       "      <td>30</td>\n",
       "      <td>E2</td>\n",
       "      <td>50.00</td>\n",
       "      <td>320.00</td>\n",
       "      <td>180.00</td>\n",
       "      <td>No</td>\n",
       "      <td>No</td>\n",
       "      <td>Male</td>\n",
       "      <td>Employee Referral</td>\n",
       "      <td>8</td>\n",
       "      <td>INFRA</td>\n",
       "      <td>Chennai</td>\n",
       "      <td>34</td>\n",
       "      <td>Joined</td>\n",
       "    </tr>\n",
       "    <tr>\n",
       "      <th>2</th>\n",
       "      <td>3</td>\n",
       "      <td>2112838</td>\n",
       "      <td>No</td>\n",
       "      <td>3</td>\n",
       "      <td>45</td>\n",
       "      <td>E2</td>\n",
       "      <td>42.84</td>\n",
       "      <td>42.84</td>\n",
       "      <td>0.00</td>\n",
       "      <td>No</td>\n",
       "      <td>No</td>\n",
       "      <td>Male</td>\n",
       "      <td>Agency</td>\n",
       "      <td>4</td>\n",
       "      <td>INFRA</td>\n",
       "      <td>Noida</td>\n",
       "      <td>27</td>\n",
       "      <td>Joined</td>\n",
       "    </tr>\n",
       "    <tr>\n",
       "      <th>3</th>\n",
       "      <td>4</td>\n",
       "      <td>2115021</td>\n",
       "      <td>No</td>\n",
       "      <td>26</td>\n",
       "      <td>30</td>\n",
       "      <td>E2</td>\n",
       "      <td>42.84</td>\n",
       "      <td>42.84</td>\n",
       "      <td>0.00</td>\n",
       "      <td>No</td>\n",
       "      <td>No</td>\n",
       "      <td>Male</td>\n",
       "      <td>Employee Referral</td>\n",
       "      <td>4</td>\n",
       "      <td>INFRA</td>\n",
       "      <td>Noida</td>\n",
       "      <td>34</td>\n",
       "      <td>Joined</td>\n",
       "    </tr>\n",
       "    <tr>\n",
       "      <th>4</th>\n",
       "      <td>5</td>\n",
       "      <td>2115125</td>\n",
       "      <td>Yes</td>\n",
       "      <td>1</td>\n",
       "      <td>120</td>\n",
       "      <td>E2</td>\n",
       "      <td>42.59</td>\n",
       "      <td>42.59</td>\n",
       "      <td>0.00</td>\n",
       "      <td>No</td>\n",
       "      <td>Yes</td>\n",
       "      <td>Male</td>\n",
       "      <td>Employee Referral</td>\n",
       "      <td>6</td>\n",
       "      <td>INFRA</td>\n",
       "      <td>Noida</td>\n",
       "      <td>34</td>\n",
       "      <td>Joined</td>\n",
       "    </tr>\n",
       "  </tbody>\n",
       "</table>\n",
       "</div>"
      ],
      "text/plain": [
       "   SLNO  Candidate.Ref DOJ.Extended  Duration.to.accept.offer  Notice.period  \\\n",
       "0     1        2110407          Yes                        14             30   \n",
       "1     2        2112635           No                        18             30   \n",
       "2     3        2112838           No                         3             45   \n",
       "3     4        2115021           No                        26             30   \n",
       "4     5        2115125          Yes                         1            120   \n",
       "\n",
       "  Offered.band  Pecent.hike.expected.in.CTC  Percent.hike.offered.in.CTC  \\\n",
       "0           E2                       -20.79                        13.16   \n",
       "1           E2                        50.00                       320.00   \n",
       "2           E2                        42.84                        42.84   \n",
       "3           E2                        42.84                        42.84   \n",
       "4           E2                        42.59                        42.59   \n",
       "\n",
       "   Percent.difference.CTC Joining.Bonus Candidate.relocate.actual  Gender  \\\n",
       "0                   42.86            No                        No  Female   \n",
       "1                  180.00            No                        No    Male   \n",
       "2                    0.00            No                        No    Male   \n",
       "3                    0.00            No                        No    Male   \n",
       "4                    0.00            No                       Yes    Male   \n",
       "\n",
       "    Candidate.Source  Rex.in.Yrs    LOB Location  Age  Status  \n",
       "0             Agency           7    ERS    Noida   34  Joined  \n",
       "1  Employee Referral           8  INFRA  Chennai   34  Joined  \n",
       "2             Agency           4  INFRA    Noida   27  Joined  \n",
       "3  Employee Referral           4  INFRA    Noida   34  Joined  \n",
       "4  Employee Referral           6  INFRA    Noida   34  Joined  "
      ]
     },
     "execution_count": 136,
     "metadata": {},
     "output_type": "execute_result"
    }
   ],
   "source": [
    "df.head()"
   ]
  },
  {
   "cell_type": "markdown",
   "metadata": {},
   "source": [
    "Changing columns name to proper name so that it will be easy for us in eda and model building"
   ]
  },
  {
   "cell_type": "code",
   "execution_count": 137,
   "metadata": {},
   "outputs": [],
   "source": [
    "df= df.rename(columns={'Joining.Bonus':'JoiningBonus','Candidate.relocate.actual':'CandidatRelocateActual','Candidate.Source':'CandidateSource','Rex.in.Yrs':'RexInYrs','Candidate.Ref': 'CandidateRef', 'Duration.to.accept.offer': 'Durationtoacceptoffer','DOJ.Extended': 'DOJExtended', 'Notice.period': 'NoticePeriod','Offered.band':'OfferedBand','Pecent.hike.expected.in.CTC':'PecentHikeExpectedInCTC','Percent.hike.offered.in.CTC':'PercentHikeOfferedInCTC','Percent.difference.CTC':'PercentDifferenceCTC'})"
   ]
  },
  {
   "cell_type": "code",
   "execution_count": 138,
   "metadata": {},
   "outputs": [
    {
     "data": {
      "text/html": [
       "<div>\n",
       "<style scoped>\n",
       "    .dataframe tbody tr th:only-of-type {\n",
       "        vertical-align: middle;\n",
       "    }\n",
       "\n",
       "    .dataframe tbody tr th {\n",
       "        vertical-align: top;\n",
       "    }\n",
       "\n",
       "    .dataframe thead th {\n",
       "        text-align: right;\n",
       "    }\n",
       "</style>\n",
       "<table border=\"1\" class=\"dataframe\">\n",
       "  <thead>\n",
       "    <tr style=\"text-align: right;\">\n",
       "      <th></th>\n",
       "      <th>SLNO</th>\n",
       "      <th>CandidateRef</th>\n",
       "      <th>DOJExtended</th>\n",
       "      <th>Durationtoacceptoffer</th>\n",
       "      <th>NoticePeriod</th>\n",
       "      <th>OfferedBand</th>\n",
       "      <th>PecentHikeExpectedInCTC</th>\n",
       "      <th>PercentHikeOfferedInCTC</th>\n",
       "      <th>PercentDifferenceCTC</th>\n",
       "      <th>JoiningBonus</th>\n",
       "      <th>CandidatRelocateActual</th>\n",
       "      <th>Gender</th>\n",
       "      <th>CandidateSource</th>\n",
       "      <th>RexInYrs</th>\n",
       "      <th>LOB</th>\n",
       "      <th>Location</th>\n",
       "      <th>Age</th>\n",
       "      <th>Status</th>\n",
       "    </tr>\n",
       "  </thead>\n",
       "  <tbody>\n",
       "    <tr>\n",
       "      <th>8993</th>\n",
       "      <td>12332</td>\n",
       "      <td>3835433</td>\n",
       "      <td>No</td>\n",
       "      <td>0</td>\n",
       "      <td>30</td>\n",
       "      <td>E1</td>\n",
       "      <td>76.92</td>\n",
       "      <td>53.85</td>\n",
       "      <td>-13.04</td>\n",
       "      <td>No</td>\n",
       "      <td>No</td>\n",
       "      <td>Male</td>\n",
       "      <td>Direct</td>\n",
       "      <td>4</td>\n",
       "      <td>INFRA</td>\n",
       "      <td>Noida</td>\n",
       "      <td>34</td>\n",
       "      <td>Joined</td>\n",
       "    </tr>\n",
       "    <tr>\n",
       "      <th>8994</th>\n",
       "      <td>12333</td>\n",
       "      <td>3836076</td>\n",
       "      <td>No</td>\n",
       "      <td>2</td>\n",
       "      <td>0</td>\n",
       "      <td>E1</td>\n",
       "      <td>45.25</td>\n",
       "      <td>14.09</td>\n",
       "      <td>-21.45</td>\n",
       "      <td>No</td>\n",
       "      <td>No</td>\n",
       "      <td>Female</td>\n",
       "      <td>Employee Referral</td>\n",
       "      <td>1</td>\n",
       "      <td>INFRA</td>\n",
       "      <td>Chennai</td>\n",
       "      <td>34</td>\n",
       "      <td>Joined</td>\n",
       "    </tr>\n",
       "    <tr>\n",
       "      <th>8995</th>\n",
       "      <td>12319</td>\n",
       "      <td>3822427</td>\n",
       "      <td>No</td>\n",
       "      <td>4</td>\n",
       "      <td>0</td>\n",
       "      <td>E1</td>\n",
       "      <td>191.67</td>\n",
       "      <td>191.67</td>\n",
       "      <td>0.00</td>\n",
       "      <td>No</td>\n",
       "      <td>No</td>\n",
       "      <td>Male</td>\n",
       "      <td>Employee Referral</td>\n",
       "      <td>1</td>\n",
       "      <td>ERS</td>\n",
       "      <td>Chennai</td>\n",
       "      <td>34</td>\n",
       "      <td>Joined</td>\n",
       "    </tr>\n",
       "    <tr>\n",
       "      <th>8996</th>\n",
       "      <td>11882</td>\n",
       "      <td>3664089</td>\n",
       "      <td>No</td>\n",
       "      <td>5</td>\n",
       "      <td>0</td>\n",
       "      <td>E2</td>\n",
       "      <td>20.00</td>\n",
       "      <td>10.00</td>\n",
       "      <td>-8.33</td>\n",
       "      <td>No</td>\n",
       "      <td>No</td>\n",
       "      <td>Male</td>\n",
       "      <td>Direct</td>\n",
       "      <td>8</td>\n",
       "      <td>ETS</td>\n",
       "      <td>Noida</td>\n",
       "      <td>34</td>\n",
       "      <td>Joined</td>\n",
       "    </tr>\n",
       "    <tr>\n",
       "      <th>8997</th>\n",
       "      <td>5080</td>\n",
       "      <td>2556130</td>\n",
       "      <td>Yes</td>\n",
       "      <td>4</td>\n",
       "      <td>30</td>\n",
       "      <td>E1</td>\n",
       "      <td>30.95</td>\n",
       "      <td>23.81</td>\n",
       "      <td>-5.45</td>\n",
       "      <td>No</td>\n",
       "      <td>No</td>\n",
       "      <td>Male</td>\n",
       "      <td>Direct</td>\n",
       "      <td>4</td>\n",
       "      <td>ETS</td>\n",
       "      <td>Bangalore</td>\n",
       "      <td>26</td>\n",
       "      <td>Joined</td>\n",
       "    </tr>\n",
       "  </tbody>\n",
       "</table>\n",
       "</div>"
      ],
      "text/plain": [
       "       SLNO  CandidateRef DOJExtended  Durationtoacceptoffer  NoticePeriod  \\\n",
       "8993  12332       3835433          No                      0            30   \n",
       "8994  12333       3836076          No                      2             0   \n",
       "8995  12319       3822427          No                      4             0   \n",
       "8996  11882       3664089          No                      5             0   \n",
       "8997   5080       2556130         Yes                      4            30   \n",
       "\n",
       "     OfferedBand  PecentHikeExpectedInCTC  PercentHikeOfferedInCTC  \\\n",
       "8993          E1                    76.92                    53.85   \n",
       "8994          E1                    45.25                    14.09   \n",
       "8995          E1                   191.67                   191.67   \n",
       "8996          E2                    20.00                    10.00   \n",
       "8997          E1                    30.95                    23.81   \n",
       "\n",
       "      PercentDifferenceCTC JoiningBonus CandidatRelocateActual  Gender  \\\n",
       "8993                -13.04           No                     No    Male   \n",
       "8994                -21.45           No                     No  Female   \n",
       "8995                  0.00           No                     No    Male   \n",
       "8996                 -8.33           No                     No    Male   \n",
       "8997                 -5.45           No                     No    Male   \n",
       "\n",
       "        CandidateSource  RexInYrs    LOB   Location  Age  Status  \n",
       "8993             Direct         4  INFRA      Noida   34  Joined  \n",
       "8994  Employee Referral         1  INFRA    Chennai   34  Joined  \n",
       "8995  Employee Referral         1    ERS    Chennai   34  Joined  \n",
       "8996             Direct         8    ETS      Noida   34  Joined  \n",
       "8997             Direct         4    ETS  Bangalore   26  Joined  "
      ]
     },
     "execution_count": 138,
     "metadata": {},
     "output_type": "execute_result"
    }
   ],
   "source": [
    "df.tail()"
   ]
  },
  {
   "cell_type": "code",
   "execution_count": 139,
   "metadata": {},
   "outputs": [
    {
     "data": {
      "text/plain": [
       "(8998, 18)"
      ]
     },
     "execution_count": 139,
     "metadata": {},
     "output_type": "execute_result"
    }
   ],
   "source": [
    "df.shape"
   ]
  },
  {
   "cell_type": "markdown",
   "metadata": {},
   "source": [
    "Counting the null values in the dataset ."
   ]
  },
  {
   "cell_type": "code",
   "execution_count": 140,
   "metadata": {},
   "outputs": [
    {
     "data": {
      "text/plain": [
       "SLNO                       0\n",
       "CandidateRef               0\n",
       "DOJExtended                0\n",
       "Durationtoacceptoffer      0\n",
       "NoticePeriod               0\n",
       "OfferedBand                0\n",
       "PecentHikeExpectedInCTC    0\n",
       "PercentHikeOfferedInCTC    0\n",
       "PercentDifferenceCTC       0\n",
       "JoiningBonus               0\n",
       "CandidatRelocateActual     0\n",
       "Gender                     0\n",
       "CandidateSource            0\n",
       "RexInYrs                   0\n",
       "LOB                        0\n",
       "Location                   0\n",
       "Age                        0\n",
       "Status                     0\n",
       "dtype: int64"
      ]
     },
     "execution_count": 140,
     "metadata": {},
     "output_type": "execute_result"
    }
   ],
   "source": [
    "df.isnull().sum()"
   ]
  },
  {
   "cell_type": "markdown",
   "metadata": {},
   "source": [
    "so there is no any null value in our data"
   ]
  },
  {
   "cell_type": "code",
   "execution_count": 141,
   "metadata": {},
   "outputs": [
    {
     "name": "stdout",
     "output_type": "stream",
     "text": [
      "<class 'pandas.core.frame.DataFrame'>\n",
      "RangeIndex: 8998 entries, 0 to 8997\n",
      "Data columns (total 18 columns):\n",
      " #   Column                   Non-Null Count  Dtype  \n",
      "---  ------                   --------------  -----  \n",
      " 0   SLNO                     8998 non-null   int64  \n",
      " 1   CandidateRef             8998 non-null   int64  \n",
      " 2   DOJExtended              8998 non-null   object \n",
      " 3   Durationtoacceptoffer    8998 non-null   int64  \n",
      " 4   NoticePeriod             8998 non-null   int64  \n",
      " 5   OfferedBand              8998 non-null   object \n",
      " 6   PecentHikeExpectedInCTC  8998 non-null   float64\n",
      " 7   PercentHikeOfferedInCTC  8998 non-null   float64\n",
      " 8   PercentDifferenceCTC     8998 non-null   float64\n",
      " 9   JoiningBonus             8998 non-null   object \n",
      " 10  CandidatRelocateActual   8998 non-null   object \n",
      " 11  Gender                   8998 non-null   object \n",
      " 12  CandidateSource          8998 non-null   object \n",
      " 13  RexInYrs                 8998 non-null   int64  \n",
      " 14  LOB                      8998 non-null   object \n",
      " 15  Location                 8998 non-null   object \n",
      " 16  Age                      8998 non-null   int64  \n",
      " 17  Status                   8998 non-null   object \n",
      "dtypes: float64(3), int64(6), object(9)\n",
      "memory usage: 1.2+ MB\n"
     ]
    }
   ],
   "source": [
    "df.info()"
   ]
  },
  {
   "cell_type": "markdown",
   "metadata": {},
   "source": [
    "grouping  data by status "
   ]
  },
  {
   "cell_type": "code",
   "execution_count": 142,
   "metadata": {},
   "outputs": [
    {
     "data": {
      "text/html": [
       "<div>\n",
       "<style scoped>\n",
       "    .dataframe tbody tr th:only-of-type {\n",
       "        vertical-align: middle;\n",
       "    }\n",
       "\n",
       "    .dataframe tbody tr th {\n",
       "        vertical-align: top;\n",
       "    }\n",
       "\n",
       "    .dataframe thead th {\n",
       "        text-align: right;\n",
       "    }\n",
       "</style>\n",
       "<table border=\"1\" class=\"dataframe\">\n",
       "  <thead>\n",
       "    <tr style=\"text-align: right;\">\n",
       "      <th></th>\n",
       "      <th>SLNO</th>\n",
       "      <th>CandidateRef</th>\n",
       "      <th>Durationtoacceptoffer</th>\n",
       "      <th>NoticePeriod</th>\n",
       "      <th>PecentHikeExpectedInCTC</th>\n",
       "      <th>PercentHikeOfferedInCTC</th>\n",
       "      <th>PercentDifferenceCTC</th>\n",
       "      <th>RexInYrs</th>\n",
       "      <th>Age</th>\n",
       "    </tr>\n",
       "    <tr>\n",
       "      <th>Status</th>\n",
       "      <th></th>\n",
       "      <th></th>\n",
       "      <th></th>\n",
       "      <th></th>\n",
       "      <th></th>\n",
       "      <th></th>\n",
       "      <th></th>\n",
       "      <th></th>\n",
       "      <th></th>\n",
       "    </tr>\n",
       "  </thead>\n",
       "  <tbody>\n",
       "    <tr>\n",
       "      <th>Joined</th>\n",
       "      <td>6012.823127</td>\n",
       "      <td>2.851244e+06</td>\n",
       "      <td>20.617687</td>\n",
       "      <td>37.233461</td>\n",
       "      <td>43.875838</td>\n",
       "      <td>41.147158</td>\n",
       "      <td>-1.263402</td>\n",
       "      <td>4.193002</td>\n",
       "      <td>30.004647</td>\n",
       "    </tr>\n",
       "    <tr>\n",
       "      <th>Not Joined</th>\n",
       "      <td>5795.761593</td>\n",
       "      <td>2.811505e+06</td>\n",
       "      <td>24.956599</td>\n",
       "      <td>48.192628</td>\n",
       "      <td>43.882818</td>\n",
       "      <td>38.588460</td>\n",
       "      <td>-2.929298</td>\n",
       "      <td>4.439358</td>\n",
       "      <td>29.517836</td>\n",
       "    </tr>\n",
       "  </tbody>\n",
       "</table>\n",
       "</div>"
      ],
      "text/plain": [
       "                   SLNO  CandidateRef  Durationtoacceptoffer  NoticePeriod  \\\n",
       "Status                                                                       \n",
       "Joined      6012.823127  2.851244e+06              20.617687     37.233461   \n",
       "Not Joined  5795.761593  2.811505e+06              24.956599     48.192628   \n",
       "\n",
       "            PecentHikeExpectedInCTC  PercentHikeOfferedInCTC  \\\n",
       "Status                                                         \n",
       "Joined                    43.875838                41.147158   \n",
       "Not Joined                43.882818                38.588460   \n",
       "\n",
       "            PercentDifferenceCTC  RexInYrs        Age  \n",
       "Status                                                 \n",
       "Joined                 -1.263402  4.193002  30.004647  \n",
       "Not Joined             -2.929298  4.439358  29.517836  "
      ]
     },
     "execution_count": 142,
     "metadata": {},
     "output_type": "execute_result"
    }
   ],
   "source": [
    "left = df.groupby('Status')\n",
    "left.mean()"
   ]
  },
  {
   "cell_type": "code",
   "execution_count": 143,
   "metadata": {},
   "outputs": [
    {
     "data": {
      "text/html": [
       "<div>\n",
       "<style scoped>\n",
       "    .dataframe tbody tr th:only-of-type {\n",
       "        vertical-align: middle;\n",
       "    }\n",
       "\n",
       "    .dataframe tbody tr th {\n",
       "        vertical-align: top;\n",
       "    }\n",
       "\n",
       "    .dataframe thead th {\n",
       "        text-align: right;\n",
       "    }\n",
       "</style>\n",
       "<table border=\"1\" class=\"dataframe\">\n",
       "  <thead>\n",
       "    <tr style=\"text-align: right;\">\n",
       "      <th></th>\n",
       "      <th>SLNO</th>\n",
       "      <th>CandidateRef</th>\n",
       "      <th>Durationtoacceptoffer</th>\n",
       "      <th>NoticePeriod</th>\n",
       "      <th>PecentHikeExpectedInCTC</th>\n",
       "      <th>PercentHikeOfferedInCTC</th>\n",
       "      <th>PercentDifferenceCTC</th>\n",
       "      <th>RexInYrs</th>\n",
       "      <th>Age</th>\n",
       "    </tr>\n",
       "  </thead>\n",
       "  <tbody>\n",
       "    <tr>\n",
       "      <th>count</th>\n",
       "      <td>8998.000000</td>\n",
       "      <td>8.998000e+03</td>\n",
       "      <td>8998.000000</td>\n",
       "      <td>8998.000000</td>\n",
       "      <td>8998.000000</td>\n",
       "      <td>8998.00000</td>\n",
       "      <td>8998.000000</td>\n",
       "      <td>8998.000000</td>\n",
       "      <td>8998.000000</td>\n",
       "    </tr>\n",
       "    <tr>\n",
       "      <th>mean</th>\n",
       "      <td>5972.247722</td>\n",
       "      <td>2.843815e+06</td>\n",
       "      <td>21.428762</td>\n",
       "      <td>39.282063</td>\n",
       "      <td>43.877143</td>\n",
       "      <td>40.66886</td>\n",
       "      <td>-1.574809</td>\n",
       "      <td>4.239053</td>\n",
       "      <td>29.913647</td>\n",
       "    </tr>\n",
       "    <tr>\n",
       "      <th>std</th>\n",
       "      <td>3374.652978</td>\n",
       "      <td>4.864595e+05</td>\n",
       "      <td>25.809202</td>\n",
       "      <td>22.224471</td>\n",
       "      <td>29.826113</td>\n",
       "      <td>36.09506</td>\n",
       "      <td>19.607638</td>\n",
       "      <td>2.547685</td>\n",
       "      <td>4.097889</td>\n",
       "    </tr>\n",
       "    <tr>\n",
       "      <th>min</th>\n",
       "      <td>1.000000</td>\n",
       "      <td>2.109586e+06</td>\n",
       "      <td>0.000000</td>\n",
       "      <td>0.000000</td>\n",
       "      <td>-68.830000</td>\n",
       "      <td>-60.53000</td>\n",
       "      <td>-67.270000</td>\n",
       "      <td>0.000000</td>\n",
       "      <td>20.000000</td>\n",
       "    </tr>\n",
       "    <tr>\n",
       "      <th>25%</th>\n",
       "      <td>3208.250000</td>\n",
       "      <td>2.386508e+06</td>\n",
       "      <td>3.000000</td>\n",
       "      <td>30.000000</td>\n",
       "      <td>27.270000</td>\n",
       "      <td>22.09000</td>\n",
       "      <td>-8.330000</td>\n",
       "      <td>3.000000</td>\n",
       "      <td>27.000000</td>\n",
       "    </tr>\n",
       "    <tr>\n",
       "      <th>50%</th>\n",
       "      <td>5976.500000</td>\n",
       "      <td>2.807490e+06</td>\n",
       "      <td>10.000000</td>\n",
       "      <td>30.000000</td>\n",
       "      <td>40.000000</td>\n",
       "      <td>36.00000</td>\n",
       "      <td>0.000000</td>\n",
       "      <td>4.000000</td>\n",
       "      <td>29.000000</td>\n",
       "    </tr>\n",
       "    <tr>\n",
       "      <th>75%</th>\n",
       "      <td>8744.000000</td>\n",
       "      <td>3.300062e+06</td>\n",
       "      <td>33.000000</td>\n",
       "      <td>60.000000</td>\n",
       "      <td>53.850000</td>\n",
       "      <td>50.00000</td>\n",
       "      <td>0.000000</td>\n",
       "      <td>6.000000</td>\n",
       "      <td>34.000000</td>\n",
       "    </tr>\n",
       "    <tr>\n",
       "      <th>max</th>\n",
       "      <td>12333.000000</td>\n",
       "      <td>3.836076e+06</td>\n",
       "      <td>224.000000</td>\n",
       "      <td>120.000000</td>\n",
       "      <td>359.770000</td>\n",
       "      <td>471.43000</td>\n",
       "      <td>300.000000</td>\n",
       "      <td>24.000000</td>\n",
       "      <td>60.000000</td>\n",
       "    </tr>\n",
       "  </tbody>\n",
       "</table>\n",
       "</div>"
      ],
      "text/plain": [
       "               SLNO  CandidateRef  Durationtoacceptoffer  NoticePeriod  \\\n",
       "count   8998.000000  8.998000e+03            8998.000000   8998.000000   \n",
       "mean    5972.247722  2.843815e+06              21.428762     39.282063   \n",
       "std     3374.652978  4.864595e+05              25.809202     22.224471   \n",
       "min        1.000000  2.109586e+06               0.000000      0.000000   \n",
       "25%     3208.250000  2.386508e+06               3.000000     30.000000   \n",
       "50%     5976.500000  2.807490e+06              10.000000     30.000000   \n",
       "75%     8744.000000  3.300062e+06              33.000000     60.000000   \n",
       "max    12333.000000  3.836076e+06             224.000000    120.000000   \n",
       "\n",
       "       PecentHikeExpectedInCTC  PercentHikeOfferedInCTC  PercentDifferenceCTC  \\\n",
       "count              8998.000000               8998.00000           8998.000000   \n",
       "mean                 43.877143                 40.66886             -1.574809   \n",
       "std                  29.826113                 36.09506             19.607638   \n",
       "min                 -68.830000                -60.53000            -67.270000   \n",
       "25%                  27.270000                 22.09000             -8.330000   \n",
       "50%                  40.000000                 36.00000              0.000000   \n",
       "75%                  53.850000                 50.00000              0.000000   \n",
       "max                 359.770000                471.43000            300.000000   \n",
       "\n",
       "          RexInYrs          Age  \n",
       "count  8998.000000  8998.000000  \n",
       "mean      4.239053    29.913647  \n",
       "std       2.547685     4.097889  \n",
       "min       0.000000    20.000000  \n",
       "25%       3.000000    27.000000  \n",
       "50%       4.000000    29.000000  \n",
       "75%       6.000000    34.000000  \n",
       "max      24.000000    60.000000  "
      ]
     },
     "execution_count": 143,
     "metadata": {},
     "output_type": "execute_result"
    }
   ],
   "source": [
    "df.describe()"
   ]
  },
  {
   "cell_type": "markdown",
   "metadata": {},
   "source": [
    "Chart on some numerical data ."
   ]
  },
  {
   "cell_type": "code",
   "execution_count": 144,
   "metadata": {},
   "outputs": [
    {
     "name": "stderr",
     "output_type": "stream",
     "text": [
      "C:\\Users\\17mur\\AppData\\Roaming\\Python\\Python38\\site-packages\\seaborn\\_decorators.py:36: FutureWarning: Pass the following variable as a keyword arg: x. From version 0.12, the only valid positional argument will be `data`, and passing other arguments without an explicit keyword will result in an error or misinterpretation.\n",
      "  warnings.warn(\n",
      "C:\\Users\\17mur\\AppData\\Roaming\\Python\\Python38\\site-packages\\seaborn\\_decorators.py:36: FutureWarning: Pass the following variable as a keyword arg: x. From version 0.12, the only valid positional argument will be `data`, and passing other arguments without an explicit keyword will result in an error or misinterpretation.\n",
      "  warnings.warn(\n",
      "C:\\Users\\17mur\\AppData\\Roaming\\Python\\Python38\\site-packages\\seaborn\\_decorators.py:36: FutureWarning: Pass the following variable as a keyword arg: x. From version 0.12, the only valid positional argument will be `data`, and passing other arguments without an explicit keyword will result in an error or misinterpretation.\n",
      "  warnings.warn(\n",
      "C:\\Users\\17mur\\AppData\\Roaming\\Python\\Python38\\site-packages\\seaborn\\_decorators.py:36: FutureWarning: Pass the following variable as a keyword arg: x. From version 0.12, the only valid positional argument will be `data`, and passing other arguments without an explicit keyword will result in an error or misinterpretation.\n",
      "  warnings.warn(\n"
     ]
    },
    {
     "data": {
      "text/plain": [
       "<AxesSubplot:xlabel='Gender', ylabel='count'>"
      ]
     },
     "execution_count": 144,
     "metadata": {},
     "output_type": "execute_result"
    },
    {
     "data": {
      "image/png": "[encoded data removed]",
      "text/plain": [
       "<Figure size 864x504 with 4 Axes>"
      ]
     },
     "metadata": {
      "needs_background": "light"
     },
     "output_type": "display_data"
    }
   ],
   "source": [
    "fig,axes = plt.subplots(2, 2, figsize=(12, 7), sharey=True)\n",
    "\n",
    "sns.countplot(\"DOJExtended\", data=df, ax=axes[0,0])\n",
    "sns.countplot(\"JoiningBonus\", data=df, ax=axes[0,1])\n",
    "sns.countplot(\"CandidatRelocateActual\", data=df, ax=axes[1,0])\n",
    "sns.countplot(\"Gender\", data=df, ax=axes[1,1])\n"
   ]
  },
  {
   "cell_type": "code",
   "execution_count": 145,
   "metadata": {},
   "outputs": [
    {
     "data": {
      "image/png": "[encoded data removed]",
      "text/plain": [
       "<Figure size 720x1080 with 6 Axes>"
      ]
     },
     "metadata": {
      "needs_background": "light"
     },
     "output_type": "display_data"
    }
   ],
   "source": [
    "features=[ 'NoticePeriod',\n",
    " 'OfferedBand',\n",
    " 'CandidateSource',\n",
    " 'RexInYrs',\n",
    " 'LOB',\n",
    " 'Location']\n",
    "fig=plt.subplots(figsize=(10,15))\n",
    "for i, j in enumerate(features):\n",
    "    plt.subplot(3, 2, i+1)\n",
    "    plt.subplots_adjust(hspace = 1.0)\n",
    "    sns.countplot(x=j,data = df)\n",
    "    plt.xticks(rotation=90)\n"
   ]
  },
  {
   "cell_type": "code",
   "execution_count": 146,
   "metadata": {},
   "outputs": [
    {
     "name": "stdout",
     "output_type": "stream",
     "text": [
      "Employes joined or not\n"
     ]
    },
    {
     "data": {
      "image/png": "[encoded data removed]",
      "text/plain": [
       "<Figure size 432x288 with 1 Axes>"
      ]
     },
     "metadata": {
      "needs_background": "light"
     },
     "output_type": "display_data"
    }
   ],
   "source": [
    "print(\"Employes joined or not\")\n",
    "sns.countplot(x=df.Status,data = df)\n",
    "plt.show()"
   ]
  },
  {
   "cell_type": "code",
   "execution_count": 147,
   "metadata": {},
   "outputs": [
    {
     "name": "stdout",
     "output_type": "stream",
     "text": [
      "Gender wise Joined or Not joined Chart\n"
     ]
    },
    {
     "data": {
      "image/png": "[encoded data removed]",
      "text/plain": [
       "<Figure size 432x288 with 1 Axes>"
      ]
     },
     "metadata": {
      "needs_background": "light"
     },
     "output_type": "display_data"
    }
   ],
   "source": [
    "print(\"Gender wise Joined or Not joined Chart\")\n",
    "sns.countplot(x = \"Status\",data=df,hue=\"Gender\")\n",
    "plt.show()\n"
   ]
  },
  {
   "cell_type": "markdown",
   "metadata": {},
   "source": [
    "From below code we will seperate our numerical data columns and Categorical Data Columns ."
   ]
  },
  {
   "cell_type": "code",
   "execution_count": 148,
   "metadata": {},
   "outputs": [],
   "source": [
    "obj_col = []\n",
    "num_col = []\n",
    "for col in df.columns:\n",
    "    if df[col].dtype=='O':\n",
    "        obj_col.append(col)\n",
    "    else:\n",
    "        num_col.append(col)"
   ]
  },
  {
   "cell_type": "code",
   "execution_count": 149,
   "metadata": {},
   "outputs": [
    {
     "name": "stdout",
     "output_type": "stream",
     "text": [
      "numerical data columns \n"
     ]
    },
    {
     "data": {
      "text/plain": [
       "['SLNO',\n",
       " 'CandidateRef',\n",
       " 'Durationtoacceptoffer',\n",
       " 'NoticePeriod',\n",
       " 'PecentHikeExpectedInCTC',\n",
       " 'PercentHikeOfferedInCTC',\n",
       " 'PercentDifferenceCTC',\n",
       " 'RexInYrs',\n",
       " 'Age']"
      ]
     },
     "execution_count": 149,
     "metadata": {},
     "output_type": "execute_result"
    }
   ],
   "source": [
    "print(\"numerical data columns \")\n",
    "num_col"
   ]
  },
  {
   "cell_type": "markdown",
   "metadata": {},
   "source": [
    "Now we will make Violin plots for all the numerical value . "
   ]
  },
  {
   "cell_type": "code",
   "execution_count": 150,
   "metadata": {},
   "outputs": [],
   "source": [
    "# Vilon plot\n",
    "def TreatOutliners(col,df):\n",
    "    ax = sns.violinplot(x=df[col])\n",
    "    plt.show()"
   ]
  },
  {
   "cell_type": "code",
   "execution_count": 151,
   "metadata": {},
   "outputs": [
    {
     "data": {
      "image/png": "[encoded data removed]",
      "text/plain": [
       "<Figure size 432x288 with 1 Axes>"
      ]
     },
     "metadata": {
      "needs_background": "light"
     },
     "output_type": "display_data"
    },
    {
     "data": {
      "image/png": "[encoded data removed]",
      "text/plain": [
       "<Figure size 432x288 with 1 Axes>"
      ]
     },
     "metadata": {
      "needs_background": "light"
     },
     "output_type": "display_data"
    },
    {
     "data": {
      "image/png": "[encoded data removed]",
      "text/plain": [
       "<Figure size 432x288 with 1 Axes>"
      ]
     },
     "metadata": {
      "needs_background": "light"
     },
     "output_type": "display_data"
    },
    {
     "data": {
      "image/png": "[encoded data removed]",
      "text/plain": [
       "<Figure size 432x288 with 1 Axes>"
      ]
     },
     "metadata": {
      "needs_background": "light"
     },
     "output_type": "display_data"
    },
    {
     "data": {
      "image/png": "[encoded data removed]",
      "text/plain": [
       "<Figure size 432x288 with 1 Axes>"
      ]
     },
     "metadata": {
      "needs_background": "light"
     },
     "output_type": "display_data"
    },
    {
     "data": {
      "image/png": "[encoded data removed]",
      "text/plain": [
       "<Figure size 432x288 with 1 Axes>"
      ]
     },
     "metadata": {
      "needs_background": "light"
     },
     "output_type": "display_data"
    },
    {
     "data": {
      "image/png": "[encoded data removed]",
      "text/plain": [
       "<Figure size 432x288 with 1 Axes>"
      ]
     },
     "metadata": {
      "needs_background": "light"
     },
     "output_type": "display_data"
    },
    {
     "data": {
      "image/png": "[encoded data removed]",
      "text/plain": [
       "<Figure size 432x288 with 1 Axes>"
      ]
     },
     "metadata": {
      "needs_background": "light"
     },
     "output_type": "display_data"
    },
    {
     "data": {
      "image/png": "[encoded data removed]",
      "text/plain": [
       "<Figure size 432x288 with 1 Axes>"
      ]
     },
     "metadata": {
      "needs_background": "light"
     },
     "output_type": "display_data"
    }
   ],
   "source": [
    "for i in num_col:\n",
    "    TreatOutliners(i,df)"
   ]
  },
  {
   "cell_type": "markdown",
   "metadata": {},
   "source": [
    "Here is boxplot "
   ]
  },
  {
   "cell_type": "code",
   "execution_count": 152,
   "metadata": {},
   "outputs": [],
   "source": [
    "def TreatOutliner(col,df):\n",
    "    df.boxplot(column=[col])\n",
    "    plt.show()\n",
    "    "
   ]
  },
  {
   "cell_type": "code",
   "execution_count": 153,
   "metadata": {},
   "outputs": [
    {
     "data": {
      "image/png": "[encoded data removed]",
      "text/plain": [
       "<Figure size 432x288 with 1 Axes>"
      ]
     },
     "metadata": {
      "needs_background": "light"
     },
     "output_type": "display_data"
    },
    {
     "data": {
      "image/png": "[encoded data removed]",
      "text/plain": [
       "<Figure size 432x288 with 1 Axes>"
      ]
     },
     "metadata": {
      "needs_background": "light"
     },
     "output_type": "display_data"
    },
    {
     "data": {
      "image/png": "[encoded data removed]",
      "text/plain": [
       "<Figure size 432x288 with 1 Axes>"
      ]
     },
     "metadata": {
      "needs_background": "light"
     },
     "output_type": "display_data"
    },
    {
     "data": {
      "image/png": "[encoded data removed]",
      "text/plain": [
       "<Figure size 432x288 with 1 Axes>"
      ]
     },
     "metadata": {
      "needs_background": "light"
     },
     "output_type": "display_data"
    },
    {
     "data": {
      "image/png": "[encoded data removed]",
      "text/plain": [
       "<Figure size 432x288 with 1 Axes>"
      ]
     },
     "metadata": {
      "needs_background": "light"
     },
     "output_type": "display_data"
    },
    {
     "data": {
      "image/png": "[encoded data removed]",
      "text/plain": [
       "<Figure size 432x288 with 1 Axes>"
      ]
     },
     "metadata": {
      "needs_background": "light"
     },
     "output_type": "display_data"
    },
    {
     "data": {
      "image/png": "[encoded data removed]",
      "text/plain": [
       "<Figure size 432x288 with 1 Axes>"
      ]
     },
     "metadata": {
      "needs_background": "light"
     },
     "output_type": "display_data"
    },
    {
     "data": {
      "image/png": "[encoded data removed]",
      "text/plain": [
       "<Figure size 432x288 with 1 Axes>"
      ]
     },
     "metadata": {
      "needs_background": "light"
     },
     "output_type": "display_data"
    },
    {
     "data": {
      "image/png": "[encoded data removed]",
      "text/plain": [
       "<Figure size 432x288 with 1 Axes>"
      ]
     },
     "metadata": {
      "needs_background": "light"
     },
     "output_type": "display_data"
    }
   ],
   "source": [
    "for i in num_col:\n",
    "    TreatOutliner(i,df)"
   ]
  },
  {
   "cell_type": "markdown",
   "metadata": {},
   "source": [
    "remove all ouliers for better prediction ."
   ]
  },
  {
   "cell_type": "code",
   "execution_count": 154,
   "metadata": {},
   "outputs": [
    {
     "data": {
      "image/png": "[encoded data removed]",
      "text/plain": [
       "<Figure size 432x288 with 1 Axes>"
      ]
     },
     "metadata": {
      "needs_background": "light"
     },
     "output_type": "display_data"
    },
    {
     "name": "stdout",
     "output_type": "stream",
     "text": [
      "(8908, 18)\n"
     ]
    }
   ],
   "source": [
    "#taking care of Durationintoacceptoffer outliers .\n",
    "per99 = np.percentile(df.Durationtoacceptoffer,[99])[0]\n",
    "df = df[(df.Durationtoacceptoffer < per99)]\n",
    "df.boxplot(column=['Durationtoacceptoffer'])\n",
    "plt.show()\n",
    "print(df.shape)"
   ]
  },
  {
   "cell_type": "code",
   "execution_count": 155,
   "metadata": {},
   "outputs": [
    {
     "data": {
      "image/png": "[encoded data removed]",
      "text/plain": [
       "<Figure size 432x288 with 1 Axes>"
      ]
     },
     "metadata": {
      "needs_background": "light"
     },
     "output_type": "display_data"
    },
    {
     "name": "stdout",
     "output_type": "stream",
     "text": [
      "(8277, 18)\n"
     ]
    }
   ],
   "source": [
    "#taking care of NoticePeriod outliers \n",
    "UpperValue = np.percentile(df.NoticePeriod,[99])[0]\n",
    "df = df[(df.NoticePeriod<UpperValue)]\n",
    "df.boxplot(column=['NoticePeriod'])\n",
    "plt.show()\n",
    "print(df.shape)"
   ]
  },
  {
   "cell_type": "code",
   "execution_count": 156,
   "metadata": {},
   "outputs": [],
   "source": [
    "lower_value = np.percentile(df.PecentHikeExpectedInCTC,[1])[0]\n",
    "df = df[(df.PecentHikeExpectedInCTC>lower_value)]\n",
    "upper_value = np.percentile(df.PecentHikeExpectedInCTC,[99])[0]\n",
    "df= df[(df.PecentHikeExpectedInCTC < upper_value)]"
   ]
  },
  {
   "cell_type": "code",
   "execution_count": 157,
   "metadata": {},
   "outputs": [
    {
     "data": {
      "image/png": "[encoded data removed]",
      "text/plain": [
       "<Figure size 432x288 with 1 Axes>"
      ]
     },
     "metadata": {
      "needs_background": "light"
     },
     "output_type": "display_data"
    }
   ],
   "source": [
    "df.boxplot(column=['PecentHikeExpectedInCTC'])\n",
    "plt.show()"
   ]
  },
  {
   "cell_type": "code",
   "execution_count": 158,
   "metadata": {},
   "outputs": [
    {
     "data": {
      "image/png": "[encoded data removed]",
      "text/plain": [
       "<Figure size 432x288 with 1 Axes>"
      ]
     },
     "metadata": {
      "needs_background": "light"
     },
     "output_type": "display_data"
    },
    {
     "name": "stdout",
     "output_type": "stream",
     "text": [
      "(7911, 18)\n"
     ]
    }
   ],
   "source": [
    "# taking care of .PercentHikeOfferedInCTC outliers \n",
    "upperValue = np.percentile(df.PercentHikeOfferedInCTC,[99])[0]\n",
    "lowerValue = np.percentile(df.PercentHikeOfferedInCTC,[1])[0]\n",
    "df= df[(df.PercentHikeOfferedInCTC <upperValue)]\n",
    "df = df[(df.PercentHikeOfferedInCTC >lowerValue)]\n",
    "df.boxplot(column=['PercentHikeOfferedInCTC'])\n",
    "plt.show()\n",
    "print(df.shape)"
   ]
  },
  {
   "cell_type": "code",
   "execution_count": 159,
   "metadata": {},
   "outputs": [
    {
     "data": {
      "image/png": "[encoded data removed]",
      "text/plain": [
       "<Figure size 432x288 with 1 Axes>"
      ]
     },
     "metadata": {
      "needs_background": "light"
     },
     "output_type": "display_data"
    }
   ],
   "source": [
    "# taking care of .PercentDifferenceCTC outliers \n",
    "upperValue = np.percentile(df.PercentDifferenceCTC,[95])[0]\n",
    "lowerValue = np.percentile(df.PercentDifferenceCTC,[3])[0]\n",
    "df = df[(df.PercentDifferenceCTC <upperValue)]\n",
    "df= df[(df.PercentDifferenceCTC >lowerValue)]\n",
    "df.boxplot(column=['PercentDifferenceCTC'])\n",
    "plt.show()"
   ]
  },
  {
   "cell_type": "code",
   "execution_count": 160,
   "metadata": {},
   "outputs": [
    {
     "data": {
      "text/plain": [
       "(7265, 18)"
      ]
     },
     "execution_count": 160,
     "metadata": {},
     "output_type": "execute_result"
    }
   ],
   "source": [
    "df.shape"
   ]
  },
  {
   "cell_type": "code",
   "execution_count": 161,
   "metadata": {},
   "outputs": [
    {
     "data": {
      "image/png": "[encoded data removed]",
      "text/plain": [
       "<Figure size 432x288 with 1 Axes>"
      ]
     },
     "metadata": {
      "needs_background": "light"
     },
     "output_type": "display_data"
    }
   ],
   "source": [
    "# taking care of RexInYrs outliers \n",
    "upperValue = np.percentile(df.RexInYrs,[99])[0]\n",
    "df = df[(df.RexInYrs < upperValue)]\n",
    "df.boxplot(column=['RexInYrs'])\n",
    "plt.show()"
   ]
  },
  {
   "cell_type": "markdown",
   "metadata": {},
   "source": [
    "After removing outlies let's see all the numerical information about our data ."
   ]
  },
  {
   "cell_type": "code",
   "execution_count": 162,
   "metadata": {},
   "outputs": [
    {
     "data": {
      "text/html": [
       "<div>\n",
       "<style scoped>\n",
       "    .dataframe tbody tr th:only-of-type {\n",
       "        vertical-align: middle;\n",
       "    }\n",
       "\n",
       "    .dataframe tbody tr th {\n",
       "        vertical-align: top;\n",
       "    }\n",
       "\n",
       "    .dataframe thead th {\n",
       "        text-align: right;\n",
       "    }\n",
       "</style>\n",
       "<table border=\"1\" class=\"dataframe\">\n",
       "  <thead>\n",
       "    <tr style=\"text-align: right;\">\n",
       "      <th></th>\n",
       "      <th>SLNO</th>\n",
       "      <th>CandidateRef</th>\n",
       "      <th>Durationtoacceptoffer</th>\n",
       "      <th>NoticePeriod</th>\n",
       "      <th>PecentHikeExpectedInCTC</th>\n",
       "      <th>PercentHikeOfferedInCTC</th>\n",
       "      <th>PercentDifferenceCTC</th>\n",
       "      <th>RexInYrs</th>\n",
       "      <th>Age</th>\n",
       "    </tr>\n",
       "  </thead>\n",
       "  <tbody>\n",
       "    <tr>\n",
       "      <th>count</th>\n",
       "      <td>7159.000000</td>\n",
       "      <td>7.159000e+03</td>\n",
       "      <td>7159.000000</td>\n",
       "      <td>7159.000000</td>\n",
       "      <td>7159.000000</td>\n",
       "      <td>7159.000000</td>\n",
       "      <td>7159.000000</td>\n",
       "      <td>7159.000000</td>\n",
       "      <td>7159.000000</td>\n",
       "    </tr>\n",
       "    <tr>\n",
       "      <th>mean</th>\n",
       "      <td>6116.694790</td>\n",
       "      <td>2.849291e+06</td>\n",
       "      <td>19.472552</td>\n",
       "      <td>35.412069</td>\n",
       "      <td>43.050930</td>\n",
       "      <td>37.544367</td>\n",
       "      <td>-3.580712</td>\n",
       "      <td>4.057410</td>\n",
       "      <td>29.797597</td>\n",
       "    </tr>\n",
       "    <tr>\n",
       "      <th>std</th>\n",
       "      <td>3326.615458</td>\n",
       "      <td>4.875150e+05</td>\n",
       "      <td>22.358544</td>\n",
       "      <td>17.120672</td>\n",
       "      <td>23.420478</td>\n",
       "      <td>22.837758</td>\n",
       "      <td>7.705324</td>\n",
       "      <td>2.228226</td>\n",
       "      <td>3.974452</td>\n",
       "    </tr>\n",
       "    <tr>\n",
       "      <th>min</th>\n",
       "      <td>3.000000</td>\n",
       "      <td>2.109941e+06</td>\n",
       "      <td>0.000000</td>\n",
       "      <td>0.000000</td>\n",
       "      <td>-8.330000</td>\n",
       "      <td>-18.750000</td>\n",
       "      <td>-25.830000</td>\n",
       "      <td>0.000000</td>\n",
       "      <td>20.000000</td>\n",
       "    </tr>\n",
       "    <tr>\n",
       "      <th>25%</th>\n",
       "      <td>3341.500000</td>\n",
       "      <td>2.386538e+06</td>\n",
       "      <td>3.000000</td>\n",
       "      <td>30.000000</td>\n",
       "      <td>28.315000</td>\n",
       "      <td>23.190000</td>\n",
       "      <td>-8.330000</td>\n",
       "      <td>3.000000</td>\n",
       "      <td>27.000000</td>\n",
       "    </tr>\n",
       "    <tr>\n",
       "      <th>50%</th>\n",
       "      <td>6161.000000</td>\n",
       "      <td>2.814142e+06</td>\n",
       "      <td>9.000000</td>\n",
       "      <td>30.000000</td>\n",
       "      <td>40.630000</td>\n",
       "      <td>35.440000</td>\n",
       "      <td>0.000000</td>\n",
       "      <td>4.000000</td>\n",
       "      <td>29.000000</td>\n",
       "    </tr>\n",
       "    <tr>\n",
       "      <th>75%</th>\n",
       "      <td>8867.500000</td>\n",
       "      <td>3.300862e+06</td>\n",
       "      <td>31.000000</td>\n",
       "      <td>45.000000</td>\n",
       "      <td>53.350000</td>\n",
       "      <td>47.500000</td>\n",
       "      <td>0.000000</td>\n",
       "      <td>5.000000</td>\n",
       "      <td>34.000000</td>\n",
       "    </tr>\n",
       "    <tr>\n",
       "      <th>max</th>\n",
       "      <td>12333.000000</td>\n",
       "      <td>3.836076e+06</td>\n",
       "      <td>103.000000</td>\n",
       "      <td>75.000000</td>\n",
       "      <td>146.640000</td>\n",
       "      <td>146.640000</td>\n",
       "      <td>16.550000</td>\n",
       "      <td>11.000000</td>\n",
       "      <td>50.000000</td>\n",
       "    </tr>\n",
       "  </tbody>\n",
       "</table>\n",
       "</div>"
      ],
      "text/plain": [
       "               SLNO  CandidateRef  Durationtoacceptoffer  NoticePeriod  \\\n",
       "count   7159.000000  7.159000e+03            7159.000000   7159.000000   \n",
       "mean    6116.694790  2.849291e+06              19.472552     35.412069   \n",
       "std     3326.615458  4.875150e+05              22.358544     17.120672   \n",
       "min        3.000000  2.109941e+06               0.000000      0.000000   \n",
       "25%     3341.500000  2.386538e+06               3.000000     30.000000   \n",
       "50%     6161.000000  2.814142e+06               9.000000     30.000000   \n",
       "75%     8867.500000  3.300862e+06              31.000000     45.000000   \n",
       "max    12333.000000  3.836076e+06             103.000000     75.000000   \n",
       "\n",
       "       PecentHikeExpectedInCTC  PercentHikeOfferedInCTC  PercentDifferenceCTC  \\\n",
       "count              7159.000000              7159.000000           7159.000000   \n",
       "mean                 43.050930                37.544367             -3.580712   \n",
       "std                  23.420478                22.837758              7.705324   \n",
       "min                  -8.330000               -18.750000            -25.830000   \n",
       "25%                  28.315000                23.190000             -8.330000   \n",
       "50%                  40.630000                35.440000              0.000000   \n",
       "75%                  53.350000                47.500000              0.000000   \n",
       "max                 146.640000               146.640000             16.550000   \n",
       "\n",
       "          RexInYrs          Age  \n",
       "count  7159.000000  7159.000000  \n",
       "mean      4.057410    29.797597  \n",
       "std       2.228226     3.974452  \n",
       "min       0.000000    20.000000  \n",
       "25%       3.000000    27.000000  \n",
       "50%       4.000000    29.000000  \n",
       "75%       5.000000    34.000000  \n",
       "max      11.000000    50.000000  "
      ]
     },
     "execution_count": 162,
     "metadata": {},
     "output_type": "execute_result"
    }
   ],
   "source": [
    "df.describe()"
   ]
  },
  {
   "cell_type": "markdown",
   "metadata": {},
   "source": [
    "Now We will take care of categorical data "
   ]
  },
  {
   "cell_type": "code",
   "execution_count": 163,
   "metadata": {},
   "outputs": [
    {
     "data": {
      "text/html": [
       "<div>\n",
       "<style scoped>\n",
       "    .dataframe tbody tr th:only-of-type {\n",
       "        vertical-align: middle;\n",
       "    }\n",
       "\n",
       "    .dataframe tbody tr th {\n",
       "        vertical-align: top;\n",
       "    }\n",
       "\n",
       "    .dataframe thead th {\n",
       "        text-align: right;\n",
       "    }\n",
       "</style>\n",
       "<table border=\"1\" class=\"dataframe\">\n",
       "  <thead>\n",
       "    <tr style=\"text-align: right;\">\n",
       "      <th></th>\n",
       "      <th>CandidateRef</th>\n",
       "      <th>DOJExtended</th>\n",
       "      <th>Durationtoacceptoffer</th>\n",
       "      <th>NoticePeriod</th>\n",
       "      <th>OfferedBand</th>\n",
       "      <th>PecentHikeExpectedInCTC</th>\n",
       "      <th>PercentHikeOfferedInCTC</th>\n",
       "      <th>PercentDifferenceCTC</th>\n",
       "      <th>JoiningBonus</th>\n",
       "      <th>CandidatRelocateActual</th>\n",
       "      <th>Gender</th>\n",
       "      <th>CandidateSource</th>\n",
       "      <th>RexInYrs</th>\n",
       "      <th>LOB</th>\n",
       "      <th>Location</th>\n",
       "      <th>Age</th>\n",
       "      <th>Status</th>\n",
       "    </tr>\n",
       "  </thead>\n",
       "  <tbody>\n",
       "    <tr>\n",
       "      <th>2</th>\n",
       "      <td>2112838</td>\n",
       "      <td>No</td>\n",
       "      <td>3</td>\n",
       "      <td>45</td>\n",
       "      <td>E2</td>\n",
       "      <td>42.84</td>\n",
       "      <td>42.84</td>\n",
       "      <td>0.0</td>\n",
       "      <td>No</td>\n",
       "      <td>No</td>\n",
       "      <td>Male</td>\n",
       "      <td>Agency</td>\n",
       "      <td>4</td>\n",
       "      <td>INFRA</td>\n",
       "      <td>Noida</td>\n",
       "      <td>27</td>\n",
       "      <td>Joined</td>\n",
       "    </tr>\n",
       "    <tr>\n",
       "      <th>3</th>\n",
       "      <td>2115021</td>\n",
       "      <td>No</td>\n",
       "      <td>26</td>\n",
       "      <td>30</td>\n",
       "      <td>E2</td>\n",
       "      <td>42.84</td>\n",
       "      <td>42.84</td>\n",
       "      <td>0.0</td>\n",
       "      <td>No</td>\n",
       "      <td>No</td>\n",
       "      <td>Male</td>\n",
       "      <td>Employee Referral</td>\n",
       "      <td>4</td>\n",
       "      <td>INFRA</td>\n",
       "      <td>Noida</td>\n",
       "      <td>34</td>\n",
       "      <td>Joined</td>\n",
       "    </tr>\n",
       "    <tr>\n",
       "      <th>5</th>\n",
       "      <td>2117167</td>\n",
       "      <td>Yes</td>\n",
       "      <td>17</td>\n",
       "      <td>30</td>\n",
       "      <td>E1</td>\n",
       "      <td>42.83</td>\n",
       "      <td>42.83</td>\n",
       "      <td>0.0</td>\n",
       "      <td>No</td>\n",
       "      <td>No</td>\n",
       "      <td>Male</td>\n",
       "      <td>Employee Referral</td>\n",
       "      <td>2</td>\n",
       "      <td>INFRA</td>\n",
       "      <td>Noida</td>\n",
       "      <td>34</td>\n",
       "      <td>Joined</td>\n",
       "    </tr>\n",
       "    <tr>\n",
       "      <th>6</th>\n",
       "      <td>2119124</td>\n",
       "      <td>Yes</td>\n",
       "      <td>37</td>\n",
       "      <td>30</td>\n",
       "      <td>E2</td>\n",
       "      <td>31.58</td>\n",
       "      <td>31.58</td>\n",
       "      <td>0.0</td>\n",
       "      <td>No</td>\n",
       "      <td>No</td>\n",
       "      <td>Male</td>\n",
       "      <td>Employee Referral</td>\n",
       "      <td>7</td>\n",
       "      <td>INFRA</td>\n",
       "      <td>Noida</td>\n",
       "      <td>32</td>\n",
       "      <td>Joined</td>\n",
       "    </tr>\n",
       "    <tr>\n",
       "      <th>11</th>\n",
       "      <td>2154264</td>\n",
       "      <td>No</td>\n",
       "      <td>3</td>\n",
       "      <td>0</td>\n",
       "      <td>E2</td>\n",
       "      <td>28.21</td>\n",
       "      <td>37.18</td>\n",
       "      <td>7.0</td>\n",
       "      <td>No</td>\n",
       "      <td>No</td>\n",
       "      <td>Male</td>\n",
       "      <td>Employee Referral</td>\n",
       "      <td>7</td>\n",
       "      <td>INFRA</td>\n",
       "      <td>Chennai</td>\n",
       "      <td>34</td>\n",
       "      <td>Joined</td>\n",
       "    </tr>\n",
       "  </tbody>\n",
       "</table>\n",
       "</div>"
      ],
      "text/plain": [
       "    CandidateRef DOJExtended  Durationtoacceptoffer  NoticePeriod OfferedBand  \\\n",
       "2        2112838          No                      3            45          E2   \n",
       "3        2115021          No                     26            30          E2   \n",
       "5        2117167         Yes                     17            30          E1   \n",
       "6        2119124         Yes                     37            30          E2   \n",
       "11       2154264          No                      3             0          E2   \n",
       "\n",
       "    PecentHikeExpectedInCTC  PercentHikeOfferedInCTC  PercentDifferenceCTC  \\\n",
       "2                     42.84                    42.84                   0.0   \n",
       "3                     42.84                    42.84                   0.0   \n",
       "5                     42.83                    42.83                   0.0   \n",
       "6                     31.58                    31.58                   0.0   \n",
       "11                    28.21                    37.18                   7.0   \n",
       "\n",
       "   JoiningBonus CandidatRelocateActual Gender    CandidateSource  RexInYrs  \\\n",
       "2            No                     No   Male             Agency         4   \n",
       "3            No                     No   Male  Employee Referral         4   \n",
       "5            No                     No   Male  Employee Referral         2   \n",
       "6            No                     No   Male  Employee Referral         7   \n",
       "11           No                     No   Male  Employee Referral         7   \n",
       "\n",
       "      LOB Location  Age  Status  \n",
       "2   INFRA    Noida   27  Joined  \n",
       "3   INFRA    Noida   34  Joined  \n",
       "5   INFRA    Noida   34  Joined  \n",
       "6   INFRA    Noida   32  Joined  \n",
       "11  INFRA  Chennai   34  Joined  "
      ]
     },
     "execution_count": 163,
     "metadata": {},
     "output_type": "execute_result"
    }
   ],
   "source": [
    "df= df.drop(['SLNO'],axis=1)\n",
    "df.head()"
   ]
  },
  {
   "cell_type": "markdown",
   "metadata": {},
   "source": [
    "# We will delete candidateRef because it has no any sense in model training ."
   ]
  },
  {
   "cell_type": "code",
   "execution_count": 164,
   "metadata": {},
   "outputs": [
    {
     "data": {
      "text/html": [
       "<div>\n",
       "<style scoped>\n",
       "    .dataframe tbody tr th:only-of-type {\n",
       "        vertical-align: middle;\n",
       "    }\n",
       "\n",
       "    .dataframe tbody tr th {\n",
       "        vertical-align: top;\n",
       "    }\n",
       "\n",
       "    .dataframe thead th {\n",
       "        text-align: right;\n",
       "    }\n",
       "</style>\n",
       "<table border=\"1\" class=\"dataframe\">\n",
       "  <thead>\n",
       "    <tr style=\"text-align: right;\">\n",
       "      <th></th>\n",
       "      <th>DOJExtended</th>\n",
       "      <th>Durationtoacceptoffer</th>\n",
       "      <th>NoticePeriod</th>\n",
       "      <th>OfferedBand</th>\n",
       "      <th>PecentHikeExpectedInCTC</th>\n",
       "      <th>PercentHikeOfferedInCTC</th>\n",
       "      <th>PercentDifferenceCTC</th>\n",
       "      <th>JoiningBonus</th>\n",
       "      <th>CandidatRelocateActual</th>\n",
       "      <th>Gender</th>\n",
       "      <th>CandidateSource</th>\n",
       "      <th>RexInYrs</th>\n",
       "      <th>LOB</th>\n",
       "      <th>Location</th>\n",
       "      <th>Age</th>\n",
       "      <th>Status</th>\n",
       "    </tr>\n",
       "  </thead>\n",
       "  <tbody>\n",
       "    <tr>\n",
       "      <th>2</th>\n",
       "      <td>No</td>\n",
       "      <td>3</td>\n",
       "      <td>45</td>\n",
       "      <td>E2</td>\n",
       "      <td>42.84</td>\n",
       "      <td>42.84</td>\n",
       "      <td>0.0</td>\n",
       "      <td>No</td>\n",
       "      <td>No</td>\n",
       "      <td>Male</td>\n",
       "      <td>Agency</td>\n",
       "      <td>4</td>\n",
       "      <td>INFRA</td>\n",
       "      <td>Noida</td>\n",
       "      <td>27</td>\n",
       "      <td>Joined</td>\n",
       "    </tr>\n",
       "    <tr>\n",
       "      <th>3</th>\n",
       "      <td>No</td>\n",
       "      <td>26</td>\n",
       "      <td>30</td>\n",
       "      <td>E2</td>\n",
       "      <td>42.84</td>\n",
       "      <td>42.84</td>\n",
       "      <td>0.0</td>\n",
       "      <td>No</td>\n",
       "      <td>No</td>\n",
       "      <td>Male</td>\n",
       "      <td>Employee Referral</td>\n",
       "      <td>4</td>\n",
       "      <td>INFRA</td>\n",
       "      <td>Noida</td>\n",
       "      <td>34</td>\n",
       "      <td>Joined</td>\n",
       "    </tr>\n",
       "    <tr>\n",
       "      <th>5</th>\n",
       "      <td>Yes</td>\n",
       "      <td>17</td>\n",
       "      <td>30</td>\n",
       "      <td>E1</td>\n",
       "      <td>42.83</td>\n",
       "      <td>42.83</td>\n",
       "      <td>0.0</td>\n",
       "      <td>No</td>\n",
       "      <td>No</td>\n",
       "      <td>Male</td>\n",
       "      <td>Employee Referral</td>\n",
       "      <td>2</td>\n",
       "      <td>INFRA</td>\n",
       "      <td>Noida</td>\n",
       "      <td>34</td>\n",
       "      <td>Joined</td>\n",
       "    </tr>\n",
       "    <tr>\n",
       "      <th>6</th>\n",
       "      <td>Yes</td>\n",
       "      <td>37</td>\n",
       "      <td>30</td>\n",
       "      <td>E2</td>\n",
       "      <td>31.58</td>\n",
       "      <td>31.58</td>\n",
       "      <td>0.0</td>\n",
       "      <td>No</td>\n",
       "      <td>No</td>\n",
       "      <td>Male</td>\n",
       "      <td>Employee Referral</td>\n",
       "      <td>7</td>\n",
       "      <td>INFRA</td>\n",
       "      <td>Noida</td>\n",
       "      <td>32</td>\n",
       "      <td>Joined</td>\n",
       "    </tr>\n",
       "    <tr>\n",
       "      <th>11</th>\n",
       "      <td>No</td>\n",
       "      <td>3</td>\n",
       "      <td>0</td>\n",
       "      <td>E2</td>\n",
       "      <td>28.21</td>\n",
       "      <td>37.18</td>\n",
       "      <td>7.0</td>\n",
       "      <td>No</td>\n",
       "      <td>No</td>\n",
       "      <td>Male</td>\n",
       "      <td>Employee Referral</td>\n",
       "      <td>7</td>\n",
       "      <td>INFRA</td>\n",
       "      <td>Chennai</td>\n",
       "      <td>34</td>\n",
       "      <td>Joined</td>\n",
       "    </tr>\n",
       "  </tbody>\n",
       "</table>\n",
       "</div>"
      ],
      "text/plain": [
       "   DOJExtended  Durationtoacceptoffer  NoticePeriod OfferedBand  \\\n",
       "2           No                      3            45          E2   \n",
       "3           No                     26            30          E2   \n",
       "5          Yes                     17            30          E1   \n",
       "6          Yes                     37            30          E2   \n",
       "11          No                      3             0          E2   \n",
       "\n",
       "    PecentHikeExpectedInCTC  PercentHikeOfferedInCTC  PercentDifferenceCTC  \\\n",
       "2                     42.84                    42.84                   0.0   \n",
       "3                     42.84                    42.84                   0.0   \n",
       "5                     42.83                    42.83                   0.0   \n",
       "6                     31.58                    31.58                   0.0   \n",
       "11                    28.21                    37.18                   7.0   \n",
       "\n",
       "   JoiningBonus CandidatRelocateActual Gender    CandidateSource  RexInYrs  \\\n",
       "2            No                     No   Male             Agency         4   \n",
       "3            No                     No   Male  Employee Referral         4   \n",
       "5            No                     No   Male  Employee Referral         2   \n",
       "6            No                     No   Male  Employee Referral         7   \n",
       "11           No                     No   Male  Employee Referral         7   \n",
       "\n",
       "      LOB Location  Age  Status  \n",
       "2   INFRA    Noida   27  Joined  \n",
       "3   INFRA    Noida   34  Joined  \n",
       "5   INFRA    Noida   34  Joined  \n",
       "6   INFRA    Noida   32  Joined  \n",
       "11  INFRA  Chennai   34  Joined  "
      ]
     },
     "execution_count": 164,
     "metadata": {},
     "output_type": "execute_result"
    }
   ],
   "source": [
    "df1 = df.drop(['CandidateRef'],axis=1)\n",
    "df1.head()"
   ]
  },
  {
   "cell_type": "code",
   "execution_count": 165,
   "metadata": {},
   "outputs": [
    {
     "data": {
      "text/plain": [
       "(7159, 16)"
      ]
     },
     "execution_count": 165,
     "metadata": {},
     "output_type": "execute_result"
    }
   ],
   "source": [
    "df1.shape"
   ]
  },
  {
   "cell_type": "code",
   "execution_count": 166,
   "metadata": {},
   "outputs": [
    {
     "data": {
      "text/plain": [
       "['DOJExtended',\n",
       " 'OfferedBand',\n",
       " 'JoiningBonus',\n",
       " 'CandidatRelocateActual',\n",
       " 'Gender',\n",
       " 'CandidateSource',\n",
       " 'LOB',\n",
       " 'Location',\n",
       " 'Status']"
      ]
     },
     "execution_count": 166,
     "metadata": {},
     "output_type": "execute_result"
    }
   ],
   "source": [
    "obj_col"
   ]
  },
  {
   "cell_type": "markdown",
   "metadata": {},
   "source": [
    "Now we will change our categorical value using LabelEncoder . "
   ]
  },
  {
   "cell_type": "code",
   "execution_count": 167,
   "metadata": {},
   "outputs": [],
   "source": [
    "from sklearn.preprocessing import LabelEncoder\n",
    "labelEncoder_X = LabelEncoder()\n",
    "df1['DOJExtended'] = labelEncoder_X.fit_transform(df1['DOJExtended'])\n",
    "df1['OfferedBand'] = labelEncoder_X.fit_transform(df1['OfferedBand'])\n",
    "df1['CandidatRelocateActual'] = labelEncoder_X.fit_transform(df1['CandidatRelocateActual'])\n",
    "df1['Gender'] = labelEncoder_X.fit_transform(df1['Gender'])\n",
    "df1['CandidateSource'] = labelEncoder_X.fit_transform(df1['CandidateSource'])\n",
    "df1['LOB'] = labelEncoder_X.fit_transform(df1['LOB'])\n",
    "df1['Location'] = labelEncoder_X.fit_transform(df1['Location'])\n",
    "df1['JoiningBonus'] = labelEncoder_X.fit_transform(df1['JoiningBonus'])"
   ]
  },
  {
   "cell_type": "code",
   "execution_count": 168,
   "metadata": {},
   "outputs": [],
   "source": [
    "#Attriton is dependent var\n",
    "from sklearn.preprocessing import LabelEncoder\n",
    "label_encoder_y=LabelEncoder()\n",
    "df1['Status']=label_encoder_y.fit_transform(df['Status'])"
   ]
  },
  {
   "cell_type": "code",
   "execution_count": 169,
   "metadata": {},
   "outputs": [
    {
     "name": "stdout",
     "output_type": "stream",
     "text": [
      "<class 'pandas.core.frame.DataFrame'>\n",
      "Int64Index: 7159 entries, 2 to 8997\n",
      "Data columns (total 16 columns):\n",
      " #   Column                   Non-Null Count  Dtype  \n",
      "---  ------                   --------------  -----  \n",
      " 0   DOJExtended              7159 non-null   int32  \n",
      " 1   Durationtoacceptoffer    7159 non-null   int64  \n",
      " 2   NoticePeriod             7159 non-null   int64  \n",
      " 3   OfferedBand              7159 non-null   int32  \n",
      " 4   PecentHikeExpectedInCTC  7159 non-null   float64\n",
      " 5   PercentHikeOfferedInCTC  7159 non-null   float64\n",
      " 6   PercentDifferenceCTC     7159 non-null   float64\n",
      " 7   JoiningBonus             7159 non-null   int32  \n",
      " 8   CandidatRelocateActual   7159 non-null   int32  \n",
      " 9   Gender                   7159 non-null   int32  \n",
      " 10  CandidateSource          7159 non-null   int32  \n",
      " 11  RexInYrs                 7159 non-null   int64  \n",
      " 12  LOB                      7159 non-null   int32  \n",
      " 13  Location                 7159 non-null   int32  \n",
      " 14  Age                      7159 non-null   int64  \n",
      " 15  Status                   7159 non-null   int32  \n",
      "dtypes: float64(3), int32(9), int64(4)\n",
      "memory usage: 699.1 KB\n"
     ]
    }
   ],
   "source": [
    "df1.info()"
   ]
  },
  {
   "cell_type": "code",
   "execution_count": 170,
   "metadata": {},
   "outputs": [],
   "source": [
    "corr_cols = df1[['DOJExtended', 'Durationtoacceptoffer', 'NoticePeriod', 'OfferedBand',\n",
    "       'PecentHikeExpectedInCTC', 'PercentHikeOfferedInCTC',\n",
    "       'PercentDifferenceCTC', 'JoiningBonus', 'CandidatRelocateActual',\n",
    "       'Gender', 'CandidateSource', 'RexInYrs', 'LOB', 'Location', 'Age',\n",
    "       'Status' ]]"
   ]
  },
  {
   "cell_type": "code",
   "execution_count": 171,
   "metadata": {},
   "outputs": [
    {
     "data": {
      "image/png": "[encoded data removed]",
      "text/plain": [
       "<Figure size 1296x720 with 2 Axes>"
      ]
     },
     "metadata": {
      "needs_background": "light"
     },
     "output_type": "display_data"
    }
   ],
   "source": [
    "corr = corr_cols.corr()\n",
    "plt.figure(figsize=(18,10))\n",
    "sns.heatmap(corr, annot = True)\n",
    "plt.show()"
   ]
  },
  {
   "cell_type": "markdown",
   "metadata": {},
   "source": [
    "\n",
    "From this heatmap we can see that RexInYrs and age has highest collinearity "
   ]
  },
  {
   "cell_type": "markdown",
   "metadata": {},
   "source": [
    "Seprating our dependent and independent variable for model training ."
   ]
  },
  {
   "cell_type": "code",
   "execution_count": 172,
   "metadata": {},
   "outputs": [],
   "source": [
    "X = df1.iloc[:,:-1]\n",
    "y = df1.iloc[:,-1]"
   ]
  },
  {
   "cell_type": "code",
   "execution_count": 173,
   "metadata": {},
   "outputs": [
    {
     "data": {
      "text/html": [
       "<div>\n",
       "<style scoped>\n",
       "    .dataframe tbody tr th:only-of-type {\n",
       "        vertical-align: middle;\n",
       "    }\n",
       "\n",
       "    .dataframe tbody tr th {\n",
       "        vertical-align: top;\n",
       "    }\n",
       "\n",
       "    .dataframe thead th {\n",
       "        text-align: right;\n",
       "    }\n",
       "</style>\n",
       "<table border=\"1\" class=\"dataframe\">\n",
       "  <thead>\n",
       "    <tr style=\"text-align: right;\">\n",
       "      <th></th>\n",
       "      <th>DOJExtended</th>\n",
       "      <th>Durationtoacceptoffer</th>\n",
       "      <th>NoticePeriod</th>\n",
       "      <th>OfferedBand</th>\n",
       "      <th>PecentHikeExpectedInCTC</th>\n",
       "      <th>PercentHikeOfferedInCTC</th>\n",
       "      <th>PercentDifferenceCTC</th>\n",
       "      <th>JoiningBonus</th>\n",
       "      <th>CandidatRelocateActual</th>\n",
       "      <th>Gender</th>\n",
       "      <th>CandidateSource</th>\n",
       "      <th>RexInYrs</th>\n",
       "      <th>LOB</th>\n",
       "      <th>Location</th>\n",
       "      <th>Age</th>\n",
       "    </tr>\n",
       "  </thead>\n",
       "  <tbody>\n",
       "    <tr>\n",
       "      <th>2</th>\n",
       "      <td>0</td>\n",
       "      <td>3</td>\n",
       "      <td>45</td>\n",
       "      <td>2</td>\n",
       "      <td>42.84</td>\n",
       "      <td>42.84</td>\n",
       "      <td>0.0</td>\n",
       "      <td>0</td>\n",
       "      <td>0</td>\n",
       "      <td>1</td>\n",
       "      <td>0</td>\n",
       "      <td>4</td>\n",
       "      <td>7</td>\n",
       "      <td>8</td>\n",
       "      <td>27</td>\n",
       "    </tr>\n",
       "    <tr>\n",
       "      <th>3</th>\n",
       "      <td>0</td>\n",
       "      <td>26</td>\n",
       "      <td>30</td>\n",
       "      <td>2</td>\n",
       "      <td>42.84</td>\n",
       "      <td>42.84</td>\n",
       "      <td>0.0</td>\n",
       "      <td>0</td>\n",
       "      <td>0</td>\n",
       "      <td>1</td>\n",
       "      <td>2</td>\n",
       "      <td>4</td>\n",
       "      <td>7</td>\n",
       "      <td>8</td>\n",
       "      <td>34</td>\n",
       "    </tr>\n",
       "    <tr>\n",
       "      <th>5</th>\n",
       "      <td>1</td>\n",
       "      <td>17</td>\n",
       "      <td>30</td>\n",
       "      <td>1</td>\n",
       "      <td>42.83</td>\n",
       "      <td>42.83</td>\n",
       "      <td>0.0</td>\n",
       "      <td>0</td>\n",
       "      <td>0</td>\n",
       "      <td>1</td>\n",
       "      <td>2</td>\n",
       "      <td>2</td>\n",
       "      <td>7</td>\n",
       "      <td>8</td>\n",
       "      <td>34</td>\n",
       "    </tr>\n",
       "    <tr>\n",
       "      <th>6</th>\n",
       "      <td>1</td>\n",
       "      <td>37</td>\n",
       "      <td>30</td>\n",
       "      <td>2</td>\n",
       "      <td>31.58</td>\n",
       "      <td>31.58</td>\n",
       "      <td>0.0</td>\n",
       "      <td>0</td>\n",
       "      <td>0</td>\n",
       "      <td>1</td>\n",
       "      <td>2</td>\n",
       "      <td>7</td>\n",
       "      <td>7</td>\n",
       "      <td>8</td>\n",
       "      <td>32</td>\n",
       "    </tr>\n",
       "    <tr>\n",
       "      <th>11</th>\n",
       "      <td>0</td>\n",
       "      <td>3</td>\n",
       "      <td>0</td>\n",
       "      <td>2</td>\n",
       "      <td>28.21</td>\n",
       "      <td>37.18</td>\n",
       "      <td>7.0</td>\n",
       "      <td>0</td>\n",
       "      <td>0</td>\n",
       "      <td>1</td>\n",
       "      <td>2</td>\n",
       "      <td>7</td>\n",
       "      <td>7</td>\n",
       "      <td>2</td>\n",
       "      <td>34</td>\n",
       "    </tr>\n",
       "  </tbody>\n",
       "</table>\n",
       "</div>"
      ],
      "text/plain": [
       "    DOJExtended  Durationtoacceptoffer  NoticePeriod  OfferedBand  \\\n",
       "2             0                      3            45            2   \n",
       "3             0                     26            30            2   \n",
       "5             1                     17            30            1   \n",
       "6             1                     37            30            2   \n",
       "11            0                      3             0            2   \n",
       "\n",
       "    PecentHikeExpectedInCTC  PercentHikeOfferedInCTC  PercentDifferenceCTC  \\\n",
       "2                     42.84                    42.84                   0.0   \n",
       "3                     42.84                    42.84                   0.0   \n",
       "5                     42.83                    42.83                   0.0   \n",
       "6                     31.58                    31.58                   0.0   \n",
       "11                    28.21                    37.18                   7.0   \n",
       "\n",
       "    JoiningBonus  CandidatRelocateActual  Gender  CandidateSource  RexInYrs  \\\n",
       "2              0                       0       1                0         4   \n",
       "3              0                       0       1                2         4   \n",
       "5              0                       0       1                2         2   \n",
       "6              0                       0       1                2         7   \n",
       "11             0                       0       1                2         7   \n",
       "\n",
       "    LOB  Location  Age  \n",
       "2     7         8   27  \n",
       "3     7         8   34  \n",
       "5     7         8   34  \n",
       "6     7         8   32  \n",
       "11    7         2   34  "
      ]
     },
     "execution_count": 173,
     "metadata": {},
     "output_type": "execute_result"
    }
   ],
   "source": [
    "X.head()"
   ]
  },
  {
   "cell_type": "code",
   "execution_count": 174,
   "metadata": {},
   "outputs": [],
   "source": [
    "from sklearn.preprocessing import scale\n",
    "X = scale(X)"
   ]
  },
  {
   "cell_type": "markdown",
   "metadata": {},
   "source": [
    "Spliting our dataset for train and test ."
   ]
  },
  {
   "cell_type": "code",
   "execution_count": 175,
   "metadata": {},
   "outputs": [],
   "source": [
    "from sklearn.model_selection import train_test_split"
   ]
  },
  {
   "cell_type": "markdown",
   "metadata": {},
   "source": [
    "We are spliting out data into 8:2 ratio . In trainig we are using our 80% data and in testing we are using our 20% data ."
   ]
  },
  {
   "cell_type": "code",
   "execution_count": 176,
   "metadata": {},
   "outputs": [],
   "source": [
    "X_train,X_test,y_train,y_test = train_test_split(X,y, test_size = 0.20,random_state = 30)"
   ]
  },
  {
   "cell_type": "markdown",
   "metadata": {},
   "source": [
    "importing Random Forest Classifier for our model ."
   ]
  },
  {
   "cell_type": "code",
   "execution_count": 177,
   "metadata": {},
   "outputs": [],
   "source": [
    "from sklearn.ensemble import RandomForestClassifier"
   ]
  },
  {
   "cell_type": "code",
   "execution_count": 178,
   "metadata": {},
   "outputs": [],
   "source": [
    "model = RandomForestClassifier()"
   ]
  },
  {
   "cell_type": "markdown",
   "metadata": {},
   "source": [
    "# Training our model ."
   ]
  },
  {
   "cell_type": "code",
   "execution_count": 179,
   "metadata": {},
   "outputs": [
    {
     "data": {
      "text/plain": [
       "RandomForestClassifier()"
      ]
     },
     "execution_count": 179,
     "metadata": {},
     "output_type": "execute_result"
    }
   ],
   "source": [
    "model.fit(X_train,y_train)"
   ]
  },
  {
   "cell_type": "code",
   "execution_count": 180,
   "metadata": {},
   "outputs": [],
   "source": [
    "predict = model.predict(X_test)"
   ]
  },
  {
   "cell_type": "code",
   "execution_count": 181,
   "metadata": {},
   "outputs": [
    {
     "data": {
      "text/plain": [
       "Index(['DOJExtended', 'Durationtoacceptoffer', 'NoticePeriod', 'OfferedBand',\n",
       "       'PecentHikeExpectedInCTC', 'PercentHikeOfferedInCTC',\n",
       "       'PercentDifferenceCTC', 'JoiningBonus', 'CandidatRelocateActual',\n",
       "       'Gender', 'CandidateSource', 'RexInYrs', 'LOB', 'Location', 'Age',\n",
       "       'Status'],\n",
       "      dtype='object')"
      ]
     },
     "execution_count": 181,
     "metadata": {},
     "output_type": "execute_result"
    }
   ],
   "source": [
    "df1.columns"
   ]
  },
  {
   "cell_type": "code",
   "execution_count": 182,
   "metadata": {},
   "outputs": [],
   "source": [
    "data = ['']"
   ]
  },
  {
   "cell_type": "code",
   "execution_count": 183,
   "metadata": {},
   "outputs": [
    {
     "name": "stdout",
     "output_type": "stream",
     "text": [
      "[0 0 0 ... 1 0 0]\n"
     ]
    }
   ],
   "source": [
    "print(predict)"
   ]
  },
  {
   "cell_type": "code",
   "execution_count": 184,
   "metadata": {},
   "outputs": [],
   "source": [
    "from sklearn.metrics import accuracy_score, confusion_matrix"
   ]
  },
  {
   "cell_type": "markdown",
   "metadata": {},
   "source": [
    "## Accuracy Score"
   ]
  },
  {
   "cell_type": "code",
   "execution_count": 185,
   "metadata": {},
   "outputs": [
    {
     "data": {
      "text/plain": [
       "0.8254189944134078"
      ]
     },
     "execution_count": 185,
     "metadata": {},
     "output_type": "execute_result"
    }
   ],
   "source": [
    "accuracy_score(y_test,predict)"
   ]
  },
  {
   "cell_type": "markdown",
   "metadata": {},
   "source": [
    "So we have build our model having 82.54 % accuracy score"
   ]
  },
  {
   "cell_type": "code",
   "execution_count": 186,
   "metadata": {},
   "outputs": [],
   "source": [
    "from sklearn.linear_model import RidgeClassifier\n",
    "from sklearn.metrics import accuracy_score\n",
    "from sklearn.metrics import confusion_matrix\n",
    "clf_ridge = RidgeClassifier() #create a ridge classifier object\n",
    "clf_ridge.fit(X_train, y_train) #train the model\n",
    "pred = clf_ridge.predict(X_train)"
   ]
  },
  {
   "cell_type": "code",
   "execution_count": 187,
   "metadata": {},
   "outputs": [
    {
     "data": {
      "text/plain": [
       "0.8289106145251397"
      ]
     },
     "execution_count": 187,
     "metadata": {},
     "output_type": "execute_result"
    }
   ],
   "source": [
    "confusion_matrix(y_train, pred)\n",
    "pred_test = clf_ridge.predict(X_test)\n",
    "accuracy_score(y_test, pred_test)"
   ]
  },
  {
   "cell_type": "markdown",
   "metadata": {},
   "source": [
    "after trying other model we get almost the same accuracy"
   ]
  },
  {
   "cell_type": "code",
   "execution_count": null,
   "metadata": {},
   "outputs": [],
   "source": []
  },
  {
   "cell_type": "code",
   "execution_count": null,
   "metadata": {},
   "outputs": [],
   "source": []
  }
 ],
 "metadata": {
  "kernelspec": {
   "display_name": "Python 3",
   "language": "python",
   "name": "python3"
  },
  "language_info": {
   "codemirror_mode": {
    "name": "ipython",
    "version": 3
   },
   "file_extension": ".py",
   "mimetype": "text/x-python",
   "name": "python",
   "nbconvert_exporter": "python",
   "pygments_lexer": "ipython3",
   "version": "3.8.5"
  }
 },
 "nbformat": 4,
 "nbformat_minor": 4
}
